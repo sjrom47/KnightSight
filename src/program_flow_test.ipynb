{
 "cells": [
  {
   "cell_type": "code",
   "execution_count": 1,
   "metadata": {},
   "outputs": [],
   "source": [
    "from utils import *\n",
    "from chessboard_detection import find_chessboard_corners\n",
    "from chesspiece_classifier import ChessPieceClassifier\n",
    "from config import *\n",
    "from warped_img import warp_chessboard_image, unwarp_points\n",
    "from tracking import Tracker\n",
    "from GMM import GMM_filter\n",
    "from Subtractor import Subtractor"
   ]
  },
  {
   "cell_type": "code",
   "execution_count": 2,
   "metadata": {},
   "outputs": [
    {
     "name": "stdout",
     "output_type": "stream",
     "text": [
      "../data/other_data/videos/test_video2.mp4\n"
     ]
    }
   ],
   "source": [
    "filename = 'test_video2.mp4'\n",
    "video = load_video(f'.{VIDEOS_DIR}/{filename}')\n"
   ]
  },
  {
   "cell_type": "code",
   "execution_count": 5,
   "metadata": {},
   "outputs": [],
   "source": [
    "grid_size=(8,8)\n",
    "image = video[0].copy()\n",
    "show_image(image, resize=True)\n",
    "_, grid = find_chessboard_corners(image, sigma=2, visualize=True)\n",
    "draw_image = image.copy()\n",
    "warped_img, M = warp_chessboard_image(image, grid)\n",
    "show_image(warped_img, resize=True)\n",
    "ideal_grid = np.mgrid[0 : grid_size[0] + 1, 0 : grid_size[1] + 1] * 100 + 50\n",
    "ideal_grid = ideal_grid.T.reshape(-1, 2)\n",
    "original_points = unwarp_points(ideal_grid, M)\n",
    "new_warped_img, M = warp_chessboard_image(image, original_points)\n",
    "show_image(new_warped_img, resize=True)\n",
    "draw_image = image.copy()\n",
    "for point in grid.reshape(-1, 2):\n",
    "    cv2.circle(draw_image, tuple(int(i) for i in point), 5, (0, 0, 255), -1)\n",
    "for point in original_points:\n",
    "    cv2.circle(draw_image, tuple(int(i) for i in point), 5, (0, 255, 0), -1)\n",
    "show_image(draw_image, resize=True)\n",
    "# _, new_grid = find_chessboard_corners(warped_img, sigma=2)\n",
    "# new_warped_img = warp_chessboard_image(warped_img, new_grid)\n",
    "# show_image(new_warped_img, resize=True)"
   ]
  },
  {
   "cell_type": "code",
   "execution_count": 4,
   "metadata": {},
   "outputs": [],
   "source": [
    "# tracker = Tracker()\n",
    "# tracker.set_up_first_frame(image, original_points)\n",
    "# for i in range(1,len(video)):\n",
    "#     new_corners = tracker.track(video[i])\n",
    "#     draw_image = video[i].copy()\n",
    "#     for point in new_corners:\n",
    "#         print(point)\n",
    "#         cv2.circle(draw_image, tuple(int(i) for i in point[0]), 5, (0, 255, 0), -1)\n",
    "#     cv2.imshow('frame', draw_image)\n",
    "#     cv2.waitKey(1)\n",
    "# cv2.destroyAllWindows()"
   ]
  },
  {
   "cell_type": "code",
   "execution_count": 5,
   "metadata": {},
   "outputs": [],
   "source": [
    "# gmm = GMM_filter(history=70)\n",
    "# # for frame in video[:5]:\n",
    "# #     gmm.apply(frame)\n",
    "# for frame in video:\n",
    "#     masked_frame = gmm.apply(frame)\n",
    "#     print(sum(sum(masked_frame)))\n",
    "#     warped_masked_frame,_ = warp_chessboard_image(masked_frame, grid)\n",
    "#     cv2.imshow('frame', warped_masked_frame)\n",
    "#     cv2.waitKey(10)\n",
    "# cv2.destroyAllWindows()"
   ]
  },
  {
   "cell_type": "code",
   "execution_count": 6,
   "metadata": {},
   "outputs": [],
   "source": [
    "\n",
    "\n",
    "# classifier = ChessPieceClassifier()\n",
    "# squares = split_image_into_squares(warped_img, grid_size)\n",
    "# show_image(warped_img, resize=True)\n",
    "# for square in squares:\n",
    "#     show_image(square, resize=True)\n",
    "#     try:\n",
    "#         print(classifier.classify(square))\n",
    "#     except:\n",
    "#         print('error')\n",
    "    \n",
    "    "
   ]
  },
  {
   "cell_type": "code",
   "execution_count": null,
   "metadata": {},
   "outputs": [],
   "source": [
    "for frame in video:\n",
    "    cv2.imshow('frame', frame)\n",
    "    key = cv2.waitKey(0)\n",
    "    if key == ord('s'):\n",
    "        new_frame = frame.copy()\n",
    "        break\n",
    "cv2.destroyAllWindows()\n",
    "show_image(new_frame, resize=True)\n",
    "_, new_grid = find_chessboard_corners(new_frame, sigma=2, visualize=True)\n",
    "draw_image = new_frame.copy()\n",
    "new_warped_img, M2 = warp_chessboard_image(new_frame, new_grid)\n",
    "subtractor = Subtractor()\n",
    "subtractor.set_image(warped_img)\n",
    "difference = subtractor.subtract(new_warped_img)\n",
    "square_diffs = split_image_into_squares(difference, grid_size)\n",
    "moved_squares = subtractor.identify_moved_squares(square_diffs)\n",
    "show_image(difference, resize=True)\n"
   ]
  },
  {
   "cell_type": "code",
   "execution_count": null,
   "metadata": {},
   "outputs": [],
   "source": [
    "for i, frame in enumerate(video):\n",
    "    cv2.imshow('frame', frame)\n",
    "    key = cv2.waitKey(0)\n",
    "    if key == ord('s'):\n",
    "        start_frame = i\n",
    "    if key == ord('e'):\n",
    "        end_frame = i\n",
    "        break\n",
    "cv2.destroyAllWindows()\n",
    "for new_frame in video[start_frame:end_frame]:\n",
    "    _, new_grid = find_chessboard_corners(new_frame, sigma=2)\n",
    "    new_warped_img, M2 = warp_chessboard_image(new_frame, new_grid)\n",
    "    difference = subtractor.subtract(new_warped_img)\n",
    "    square_diffs = split_image_into_squares(difference, grid_size)\n",
    "    moved_squares = subtractor.identify_moved_squares(square_diffs)\n",
    "    show_image(difference, resize=True)"
   ]
  }
 ],
 "metadata": {
  "kernelspec": {
   "display_name": "computer_vision",
   "language": "python",
   "name": "python3"
  },
  "language_info": {
   "codemirror_mode": {
    "name": "ipython",
    "version": 3
   },
   "file_extension": ".py",
   "mimetype": "text/x-python",
   "name": "python",
   "nbconvert_exporter": "python",
   "pygments_lexer": "ipython3",
   "version": "3.12.5"
  }
 },
 "nbformat": 4,
 "nbformat_minor": 2
}
