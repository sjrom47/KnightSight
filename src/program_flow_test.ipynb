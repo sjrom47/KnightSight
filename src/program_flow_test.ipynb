{
 "cells": [
  {
   "cell_type": "code",
   "execution_count": 1,
   "metadata": {},
   "outputs": [],
   "source": [
    "from utils import *\n",
    "from chessboard_detection import find_chessboard_corners\n",
    "from chesspiece_classifier import ChessPieceClassifier\n",
    "from config import *\n",
    "from warped_img import warp_chessboard_image, unwarp_points\n"
   ]
  },
  {
   "cell_type": "code",
   "execution_count": 2,
   "metadata": {},
   "outputs": [
    {
     "name": "stdout",
     "output_type": "stream",
     "text": [
      "../data/other_data/videos/video_test_1.mp4\n"
     ]
    }
   ],
   "source": [
    "filename = 'video_test_1.mp4'\n",
    "video = load_video(f'{VIDEOS_DIR}/{filename}')\n"
   ]
  },
  {
   "cell_type": "code",
   "execution_count": 4,
   "metadata": {},
   "outputs": [],
   "source": [
    "grid_size=(8,8)\n",
    "image = video[0].copy()\n",
    "show_image(image, resize=True)\n",
    "_, grid = find_chessboard_corners(image, sigma=2)\n",
    "warped_img, M = warp_chessboard_image(image, grid)\n",
    "show_image(warped_img, resize=True)\n",
    "ideal_grid = np.mgrid[0 : grid_size[0] + 1, 0 : grid_size[1] + 1] * 100 + 50\n",
    "ideal_grid = ideal_grid.T.reshape(-1, 2)\n",
    "original_points = unwarp_points(ideal_grid, M)\n",
    "for point in original_points:\n",
    "    cv2.circle(image, tuple(int(i) for i in point), 5, (0, 255, 0), -1)\n",
    "show_image(image, resize=True)\n",
    "# _, new_grid = find_chessboard_corners(warped_img, sigma=2)\n",
    "# new_warped_img = warp_chessboard_image(warped_img, new_grid)\n",
    "# show_image(new_warped_img, resize=True)"
   ]
  }
 ],
 "metadata": {
  "kernelspec": {
   "display_name": "computer_vision",
   "language": "python",
   "name": "python3"
  },
  "language_info": {
   "codemirror_mode": {
    "name": "ipython",
    "version": 3
   },
   "file_extension": ".py",
   "mimetype": "text/x-python",
   "name": "python",
   "nbconvert_exporter": "python",
   "pygments_lexer": "ipython3",
   "version": "3.12.5"
  }
 },
 "nbformat": 4,
 "nbformat_minor": 2
}
