{
 "cells": [
  {
   "cell_type": "code",
   "execution_count": 1,
   "metadata": {},
   "outputs": [],
   "source": [
    "from utils import *\n",
    "from chessboard_detection import find_chessboard_corners\n",
    "from chesspiece_classifier import ChessPieceClassifier\n",
    "from config import *\n",
    "from warped_img import warp_chessboard_image, unwarp_points\n"
   ]
  },
  {
   "cell_type": "code",
   "execution_count": 3,
   "metadata": {},
   "outputs": [
    {
     "name": "stdout",
     "output_type": "stream",
     "text": [
      "../data/other_data/videos/video_test_1.mp4\n"
     ]
    }
   ],
   "source": [
    "filename = 'video_test_1.mp4'\n",
    "video = load_video(f'{VIDEOS_DIR}/{filename}')\n",
    "# image_shape = (video[0].shape[1]*2, video[0].shape[0]*2)\n",
    "# print(image_shape)\n",
    "# image = cv2.resize(video[0], image_shape, interpolation=cv2.INTER_CUBIC)\n",
    "image = video[0]\n",
    "show_image(image, resize=True)\n",
    "_, grid = find_chessboard_corners(image, sigma=1.5, visualize=True)\n",
    "warped_img = warp_chessboard_image(image, grid)\n",
    "show_image(warped_img, resize=True)"
   ]
  }
 ],
 "metadata": {
  "kernelspec": {
   "display_name": "computer_vision",
   "language": "python",
   "name": "python3"
  },
  "language_info": {
   "codemirror_mode": {
    "name": "ipython",
    "version": 3
   },
   "file_extension": ".py",
   "mimetype": "text/x-python",
   "name": "python",
   "nbconvert_exporter": "python",
   "pygments_lexer": "ipython3",
   "version": "3.12.5"
  }
 },
 "nbformat": 4,
 "nbformat_minor": 2
}
