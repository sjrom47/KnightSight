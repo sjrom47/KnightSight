{
 "cells": [
  {
   "cell_type": "code",
   "execution_count": 1,
   "metadata": {},
   "outputs": [],
   "source": [
    "from utils import *\n",
    "from chessboard_detection import find_chessboard_corners\n",
    "from chesspiece_classifier import ChessPieceClassifier\n",
    "from config import *\n",
    "from warped_img import warp_chessboard_image, unwarp_points\n",
    "from tracking import Tracker\n",
    "from GMM import GMM_filter"
   ]
  },
  {
   "cell_type": "code",
   "execution_count": 2,
   "metadata": {},
   "outputs": [
    {
     "name": "stdout",
     "output_type": "stream",
     "text": [
      "../data/other_data/videos/test_video2.mp4\n"
     ]
    }
   ],
   "source": [
    "filename = 'test_video2.mp4'\n",
    "video = load_video(f'{VIDEOS_DIR}/{filename}')\n"
   ]
  },
  {
   "cell_type": "code",
   "execution_count": 3,
   "metadata": {},
   "outputs": [],
   "source": [
    "grid_size=(8,8)\n",
    "image = video[0].copy()\n",
    "show_image(image, resize=True)\n",
    "_, grid = find_chessboard_corners(image, sigma=2)\n",
    "warped_img, M = warp_chessboard_image(image, grid)\n",
    "show_image(warped_img, resize=True)\n",
    "ideal_grid = np.mgrid[0 : grid_size[0] + 1, 0 : grid_size[1] + 1] * 100 + 50\n",
    "ideal_grid = ideal_grid.T.reshape(-1, 2)\n",
    "original_points = unwarp_points(ideal_grid, M)\n",
    "draw_image = image.copy()\n",
    "for point in original_points:\n",
    "    cv2.circle(draw_image, tuple(int(i) for i in point), 5, (0, 255, 0), -1)\n",
    "show_image(draw_image, resize=True)\n",
    "# _, new_grid = find_chessboard_corners(warped_img, sigma=2)\n",
    "# new_warped_img = warp_chessboard_image(warped_img, new_grid)\n",
    "# show_image(new_warped_img, resize=True)"
   ]
  },
  {
   "cell_type": "code",
   "execution_count": 4,
   "metadata": {},
   "outputs": [],
   "source": [
    "# tracker = Tracker()\n",
    "# tracker.set_up_first_frame(image, original_points)\n",
    "# for i in range(1,len(video)):\n",
    "#     new_corners = tracker.track(video[i])\n",
    "#     draw_image = video[i].copy()\n",
    "#     for point in new_corners:\n",
    "#         print(point)\n",
    "#         cv2.circle(draw_image, tuple(int(i) for i in point[0]), 5, (0, 255, 0), -1)\n",
    "#     cv2.imshow('frame', draw_image)\n",
    "#     cv2.waitKey(1)\n",
    "# cv2.destroyAllWindows()"
   ]
  },
  {
   "cell_type": "code",
   "execution_count": 5,
   "metadata": {},
   "outputs": [],
   "source": [
    "# gmm = GMM_filter(history=70)\n",
    "# for frame in video:\n",
    "#     masked_frame = gmm.apply(frame)\n",
    "#     warped_masked_frame,_ = warp_chessboard_image(masked_frame, grid)\n",
    "#     cv2.imshow('frame', warped_masked_frame)\n",
    "#     cv2.waitKey(1)\n",
    "# cv2.destroyAllWindows()"
   ]
  },
  {
   "cell_type": "code",
   "execution_count": 6,
   "metadata": {},
   "outputs": [
    {
     "name": "stdout",
     "output_type": "stream",
     "text": [
      "error\n",
      "error\n",
      "error\n",
      "error\n"
     ]
    },
    {
     "ename": "error",
     "evalue": "OpenCV(4.10.0) D:\\a\\opencv-python\\opencv-python\\opencv\\modules\\imgproc\\src\\resize.cpp:4152: error: (-215:Assertion failed) !ssize.empty() in function 'cv::resize'\n",
     "output_type": "error",
     "traceback": [
      "\u001b[1;31m---------------------------------------------------------------------------\u001b[0m",
      "\u001b[1;31merror\u001b[0m                                     Traceback (most recent call last)",
      "Cell \u001b[1;32mIn[6], line 7\u001b[0m\n\u001b[0;32m      5\u001b[0m show_image(warped_img, resize\u001b[38;5;241m=\u001b[39m\u001b[38;5;28;01mTrue\u001b[39;00m)\n\u001b[0;32m      6\u001b[0m \u001b[38;5;28;01mfor\u001b[39;00m square \u001b[38;5;129;01min\u001b[39;00m squares:\n\u001b[1;32m----> 7\u001b[0m     \u001b[43mshow_image\u001b[49m\u001b[43m(\u001b[49m\u001b[43msquare\u001b[49m\u001b[43m,\u001b[49m\u001b[43m \u001b[49m\u001b[43mresize\u001b[49m\u001b[38;5;241;43m=\u001b[39;49m\u001b[38;5;28;43;01mTrue\u001b[39;49;00m\u001b[43m)\u001b[49m\n\u001b[0;32m      8\u001b[0m     \u001b[38;5;28;01mtry\u001b[39;00m:\n\u001b[0;32m      9\u001b[0m         \u001b[38;5;28mprint\u001b[39m(classifier\u001b[38;5;241m.\u001b[39mclassify(square))\n",
      "File \u001b[1;32mc:\\Users\\sergi\\Documents\\ICAI\\3º\\Primer cuatrimestre\\Computer vision\\KnightSight\\src\\utils.py:143\u001b[0m, in \u001b[0;36mshow_image\u001b[1;34m(img, img_name, resize)\u001b[0m\n\u001b[0;32m    134\u001b[0m \u001b[38;5;250m\u001b[39m\u001b[38;5;124;03m\"\"\"\u001b[39;00m\n\u001b[0;32m    135\u001b[0m \u001b[38;5;124;03mDisplay an image using OpenCV.\u001b[39;00m\n\u001b[0;32m    136\u001b[0m \n\u001b[1;32m   (...)\u001b[0m\n\u001b[0;32m    140\u001b[0m \u001b[38;5;124;03m    resize (bool, optional): If the image is too big we can resize it. Defaults to False.\u001b[39;00m\n\u001b[0;32m    141\u001b[0m \u001b[38;5;124;03m\"\"\"\u001b[39;00m\n\u001b[0;32m    142\u001b[0m \u001b[38;5;28;01mif\u001b[39;00m resize:\n\u001b[1;32m--> 143\u001b[0m     img \u001b[38;5;241m=\u001b[39m \u001b[43mcv2\u001b[49m\u001b[38;5;241;43m.\u001b[39;49m\u001b[43mresize\u001b[49m\u001b[43m(\u001b[49m\u001b[43mimg\u001b[49m\u001b[43m,\u001b[49m\u001b[43m \u001b[49m\u001b[43m(\u001b[49m\u001b[38;5;241;43m800\u001b[39;49m\u001b[43m,\u001b[49m\u001b[43m \u001b[49m\u001b[38;5;241;43m600\u001b[39;49m\u001b[43m)\u001b[49m\u001b[43m)\u001b[49m\n\u001b[0;32m    144\u001b[0m cv2\u001b[38;5;241m.\u001b[39mimshow(img_name, img)\n\u001b[0;32m    145\u001b[0m cv2\u001b[38;5;241m.\u001b[39mwaitKey(\u001b[38;5;241m0\u001b[39m)\n",
      "\u001b[1;31merror\u001b[0m: OpenCV(4.10.0) D:\\a\\opencv-python\\opencv-python\\opencv\\modules\\imgproc\\src\\resize.cpp:4152: error: (-215:Assertion failed) !ssize.empty() in function 'cv::resize'\n"
     ]
    }
   ],
   "source": [
    "from train_labeling_script import split_image_into_squares\n",
    "\n",
    "classifier = ChessPieceClassifier()\n",
    "squares = split_image_into_squares(warped_img, grid_size)\n",
    "show_image(warped_img, resize=True)\n",
    "for square in squares:\n",
    "    show_image(square, resize=True)\n",
    "    try:\n",
    "        print(classifier.classify(square))\n",
    "    except:\n",
    "        print('error')\n",
    "    \n",
    "    "
   ]
  }
 ],
 "metadata": {
  "kernelspec": {
   "display_name": "computer_vision",
   "language": "python",
   "name": "python3"
  },
  "language_info": {
   "codemirror_mode": {
    "name": "ipython",
    "version": 3
   },
   "file_extension": ".py",
   "mimetype": "text/x-python",
   "name": "python",
   "nbconvert_exporter": "python",
   "pygments_lexer": "ipython3",
   "version": "3.12.5"
  }
 },
 "nbformat": 4,
 "nbformat_minor": 2
}
