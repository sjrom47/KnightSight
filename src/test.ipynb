{
 "cells": [
  {
   "cell_type": "code",
   "execution_count": 14,
   "metadata": {},
   "outputs": [],
   "source": [
    "import numpy as np"
   ]
  },
  {
   "cell_type": "code",
   "execution_count": 15,
   "metadata": {},
   "outputs": [
    {
     "name": "stdout",
     "output_type": "stream",
     "text": [
      "[[      5    3383]\n",
      " [   3383 2288943]] 2\n",
      "[[ 8.80362692e+04 -1.30115385e+02]\n",
      " [-1.30115385e+02  1.92307692e-01]]\n",
      "[[-5.18461538e+01 -1.81961538e+02  7.82692308e+01 -5.18461538e+01\n",
      "   2.08384615e+02]\n",
      " [ 7.69230769e-02  2.69230769e-01 -1.15384615e-01  7.69230769e-02\n",
      "  -3.07692308e-01]]\n",
      "[-71979.19230576    107.65384615]\n"
     ]
    }
   ],
   "source": [
    "X = np.array([[  1, 677],\n",
    " [  1, 678],\n",
    " [  1, 676],\n",
    " [  1, 677],\n",
    " [  1, 675]])\n",
    "y = np.array([1150,  942,  839,  735,  631])\n",
    "P = X.T@X\n",
    "print(P, np.linalg.matrix_rank(P))\n",
    "P_inv = np.linalg.inv(P)\n",
    "print(P_inv)\n",
    "P2 = P_inv@X.T\n",
    "print(P2)\n",
    "w = P2@y\n",
    "print(w)"
   ]
  },
  {
   "cell_type": "code",
   "execution_count": 23,
   "metadata": {},
   "outputs": [
    {
     "name": "stdout",
     "output_type": "stream",
     "text": [
      "[[     3   1077]\n",
      " [  1077 386649]] 2\n",
      "[[ 2.14805000e+04 -5.98333333e+01]\n",
      " [-5.98333333e+01  1.66666667e-01]]\n",
      "[[-59.5        120.         -59.5       ]\n",
      " [  0.16666667  -0.33333333   0.16666667]]\n",
      "[ 9.135e+02 -5.000e-01]\n"
     ]
    }
   ],
   "source": [
    "X = np.array([[  1, 360],\n",
    " [  1, 357],\n",
    " [  1, 360]])\n",
    "y = np.array([632, 735, 835])\n",
    "P = X.T@X\n",
    "print(P, np.linalg.matrix_rank(P))\n",
    "P_inv = np.linalg.inv(P)\n",
    "# P_inv = np.linalg.pinv(P)\n",
    "print(P_inv)\n",
    "P2 = P_inv@X.T\n",
    "print(P2)\n",
    "w = P2@y.T\n",
    "print(w)"
   ]
  },
  {
   "cell_type": "code",
   "execution_count": 1,
   "metadata": {},
   "outputs": [
    {
     "name": "stdout",
     "output_type": "stream",
     "text": [
      "[[4, 2, 3, 5, 6, 3, 2, 4], [1, 1, 1, 1, 1, 1, 1, 1], [0, 0, 0, 0, 0, 0, 0, 0], [0, 0, 0, 0, 0, 0, 0, 0], [0, 0, 0, 0, 0, 0, 0, 0], [0, 0, 0, 0, 0, 0, 0, 0], [-1, -1, -1, -1, -1, -1, -1, -1], [-4, -2, -3, -5, -6, -3, -2, -4]]\n"
     ]
    }
   ],
   "source": [
    "board = [\n",
    "        [-4, -2, -3, -5, -6, -3, -2, -4],\n",
    "        [-1, -1, -1, -1, -1, -1, -1, -1],\n",
    "        [0, 0, 0, 0, 0, 0, 0, 0],\n",
    "        [0, 0, 0, 0, 0, 0, 0, 0],\n",
    "        [0, 0, 0, 0, 0, 0, 0, 0],\n",
    "        [0, 0, 0, 0, 0, 0, 0, 0],\n",
    "        [1, 1, 1, 1, 1, 1, 1, 1],\n",
    "        [4, 2, 3, 5, 6, 3, 2, 4],\n",
    "    ][::-1]\n",
    "print(board)\n"
   ]
  }
 ],
 "metadata": {
  "kernelspec": {
   "display_name": "computer_vision",
   "language": "python",
   "name": "python3"
  },
  "language_info": {
   "codemirror_mode": {
    "name": "ipython",
    "version": 3
   },
   "file_extension": ".py",
   "mimetype": "text/x-python",
   "name": "python",
   "nbconvert_exporter": "python",
   "pygments_lexer": "ipython3",
   "version": "3.12.5"
  }
 },
 "nbformat": 4,
 "nbformat_minor": 2
}
