{
 "cells": [
  {
   "cell_type": "code",
   "execution_count": 1,
   "metadata": {},
   "outputs": [],
   "source": [
    "from chessboard_detection import find_chessboard_corners\n",
    "from warped_img import warp_chessboard_image\n",
    "import cv2\n",
    "import numpy as np\n",
    "from utils import *\n",
    "import copy\n",
    "import cProfile\n",
    "import time"
   ]
  },
  {
   "cell_type": "code",
   "execution_count": 2,
   "metadata": {},
   "outputs": [],
   "source": [
    "imgs = load_images(\"../data/other_data/photos/*.jpg\")\n",
    "img = imgs[3].copy()\n",
    "img_shape = (img.shape[1] // 2, img.shape[0] // 2)\n",
    "img = cv2.resize(img, img_shape)\n",
    "outer_square, grid = find_chessboard_corners(img, sigma=2)\n",
    "final_img = copy.deepcopy(img)\n",
    "\n",
    "\n",
    "# for corner in grid.reshape(-1, 2):\n",
    "#     cv2.circle(final_img, [int(i) for i in corner], 15, (0, 0, 255), -1)\n",
    "# show_image(final_img, resize=True)"
   ]
  },
  {
   "cell_type": "code",
   "execution_count": 3,
   "metadata": {},
   "outputs": [],
   "source": [
    "grid_size = (8,8)\n",
    "# ideal_grid = np.mgrid[0:9, 0:9] * 100 + 50\n",
    "# ideal_grid = ideal_grid.T.reshape(-1, 2)\n",
    "\n",
    "warped_img = warp_chessboard_image(img, grid, grid_size)\n",
    "show_image(warped_img, resize=True)"
   ]
  },
  {
   "cell_type": "code",
   "execution_count": null,
   "metadata": {},
   "outputs": [
    {
     "name": "stdout",
     "output_type": "stream",
     "text": [
      "0\n",
      "1\n",
      "2\n",
      "3\n",
      "4\n",
      "5\n",
      "6\n",
      "7\n",
      "8\n"
     ]
    }
   ],
   "source": [
    "for i, img in enumerate(imgs):\n",
    "    print(i)\n",
    "    img_shape = (img.shape[1] // 2, img.shape[0] // 2)\n",
    "    img = cv2.resize(img, img_shape)\n",
    "    outer_square, grid = find_chessboard_corners(img, sigma=2)\n",
    "    \n",
    "    warped_img = warp_chessboard_image(img, grid, grid_size)\n",
    "    show_image(warped_img, resize=True)"
   ]
  }
 ],
 "metadata": {
  "kernelspec": {
   "display_name": "computer_vision",
   "language": "python",
   "name": "python3"
  },
  "language_info": {
   "codemirror_mode": {
    "name": "ipython",
    "version": 3
   },
   "file_extension": ".py",
   "mimetype": "text/x-python",
   "name": "python",
   "nbconvert_exporter": "python",
   "pygments_lexer": "ipython3",
   "version": "3.12.5"
  }
 },
 "nbformat": 4,
 "nbformat_minor": 2
}
